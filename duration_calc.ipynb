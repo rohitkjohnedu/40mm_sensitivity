{
 "cells": [
  {
   "cell_type": "code",
   "execution_count": 5,
   "metadata": {},
   "outputs": [
    {
     "data": {
      "text/html": [
       "<pre style=\"white-space:pre;overflow-x:auto;line-height:normal;font-family:Menlo,'DejaVu Sans Mono',consolas,'Courier New',monospace\">Already run\n",
       "</pre>\n"
      ],
      "text/plain": [
       "Already run\n"
      ]
     },
     "metadata": {},
     "output_type": "display_data"
    }
   ],
   "source": [
    "try:\n",
    "    print(a)\n",
    "except:\n",
    "    import os\n",
    "    from rich import print\n",
    "    current_path = os.getcwd()\n",
    "    a = \"Already run\" "
   ]
  },
  {
   "cell_type": "markdown",
   "metadata": {},
   "source": [
    "## Select the files"
   ]
  },
  {
   "cell_type": "code",
   "execution_count": 6,
   "metadata": {},
   "outputs": [],
   "source": [
    "log_files = []\n",
    "os.chdir(current_path)\n",
    "os.chdir(\"./logs\")\n",
    "\n",
    "# --------------------------------------------------------------------------- selecting the data files\n",
    "files     = os.listdir()\n",
    "log_files = [] \n",
    "for i in files:\n",
    "    if i.find('log') > 0:\n",
    "        log_files.append(i)\n"
   ]
  },
  {
   "cell_type": "code",
   "execution_count": 7,
   "metadata": {},
   "outputs": [],
   "source": [
    "duration_dict = {}\n",
    "\n",
    "for log_file in log_files:\n",
    "    with open(log_file, 'r') as file:\n",
    "        s = file.read()\n",
    "        \n",
    "        # get ID\n",
    "        ID_idx     = s.find(\"ID=\")\n",
    "        ID_end_idx = s[ID_idx:].find(\",\")\n",
    "\n",
    "        ID = s[ID_idx + 3: ID_idx + ID_end_idx]\n",
    "\n",
    "        # get the duration\n",
    "        dur_inx = s.find(\"duration\")\n",
    "        s_first = s[dur_inx:]\n",
    "        newline_idx = s_first.find('\\n')\n",
    "        colon_idx   = s_first.find(': ')\n",
    "\n",
    "        duration = s_first[colon_idx + 2:newline_idx]\n",
    "\n",
    "        # Storing duration in dict\n",
    "        duration_dict[int(ID)] = duration\n",
    "\n",
    "keys = list(duration_dict.keys())\n",
    "keys.sort()\n",
    "\n",
    "sorted_duration_dict = {key:duration_dict[key] for key in keys}\n",
    "\n",
    "print(sorted_duration_dict)"
   ]
  },
  {
   "cell_type": "code",
   "execution_count": null,
   "metadata": {},
   "outputs": [],
   "source": []
  }
 ],
 "metadata": {
  "interpreter": {
   "hash": "916dbcbb3f70747c44a77c7bcd40155683ae19c65e1c03b4aa3499c5328201f1"
  },
  "kernelspec": {
   "display_name": "Python 3.8.10 64-bit",
   "name": "python3"
  },
  "language_info": {
   "codemirror_mode": {
    "name": "ipython",
    "version": 3
   },
   "file_extension": ".py",
   "mimetype": "text/x-python",
   "name": "python",
   "nbconvert_exporter": "python",
   "pygments_lexer": "ipython3",
   "version": "3.8.10"
  },
  "orig_nbformat": 4
 },
 "nbformat": 4,
 "nbformat_minor": 2
}
