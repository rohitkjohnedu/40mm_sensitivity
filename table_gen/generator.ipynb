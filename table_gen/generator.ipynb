{
 "cells": [
  {
   "cell_type": "markdown",
   "source": [
    "# Aim"
   ],
   "metadata": {}
  },
  {
   "cell_type": "markdown",
   "source": [
    "This will generate the .table file for the simulations"
   ],
   "metadata": {}
  },
  {
   "cell_type": "code",
   "execution_count": 11,
   "source": [
    "import json\n",
    "import numpy as np\n",
    "from matplotlib import pyplot as plt\n",
    "import plotly.graph_objects as go\n",
    "from bisect import bisect_left\n",
    "\n",
    "import sys, os\n",
    "sys.path.append(\".\")\n",
    "current_path = os.getcwd()\n",
    "\n",
    "pi = 3.14159265"
   ],
   "outputs": [],
   "metadata": {}
  },
  {
   "cell_type": "code",
   "execution_count": 12,
   "source": [
    "young   = [2.7e6 - 1.1e6, 2.7e6, 2.7e6 + 1.1e6]\n",
    "density = [1100 , (1100 + 2300)/2 , 2300]\n",
    "root_radius = [0.9e-3, 1e-3,   1.1e-3]\n",
    "radii_diff  = [0.6e-3, 0.5e-3, 0.4e-3]\n",
    "\n",
    "\n",
    "params = [\n",
    "    [young[1], density[1], root_radius[1], radii_diff[1]],\n",
    "    [young[0], density[1], root_radius[1], radii_diff[1]],\n",
    "    [young[2], density[1], root_radius[1], radii_diff[1]],\n",
    "    [young[1], density[0], root_radius[1], radii_diff[1]],\n",
    "    [young[1], density[2], root_radius[1], radii_diff[1]],\n",
    "    [young[1], density[1], root_radius[0], radii_diff[0]],\n",
    "    [young[1], density[1], root_radius[2], radii_diff[2]]\n",
    "]\n",
    "\n",
    "variation_number = len(params)"
   ],
   "outputs": [],
   "metadata": {}
  },
  {
   "cell_type": "markdown",
   "source": [
    "# Get number of experiments"
   ],
   "metadata": {}
  },
  {
   "cell_type": "code",
   "execution_count": 13,
   "source": [
    "# --------------------------------------------------------------------------- setting the directory\n",
    "os.chdir(current_path)\n",
    "\n",
    "# --------------------------------------------------------------------------- selecting the data files\n",
    "import pandas as pd\n",
    "data = pd.read_csv('exp_details.csv')\n",
    "data.head() # to display the first 5 lines of loaded data\n"
   ],
   "outputs": [
    {
     "output_type": "execute_result",
     "data": {
      "text/html": [
       "<div>\n",
       "<style scoped>\n",
       "    .dataframe tbody tr th:only-of-type {\n",
       "        vertical-align: middle;\n",
       "    }\n",
       "\n",
       "    .dataframe tbody tr th {\n",
       "        vertical-align: top;\n",
       "    }\n",
       "\n",
       "    .dataframe thead th {\n",
       "        text-align: right;\n",
       "    }\n",
       "</style>\n",
       "<table border=\"1\" class=\"dataframe\">\n",
       "  <thead>\n",
       "    <tr style=\"text-align: right;\">\n",
       "      <th></th>\n",
       "      <th>ID</th>\n",
       "      <th>file_name</th>\n",
       "      <th>x_pos</th>\n",
       "      <th>z_pos</th>\n",
       "      <th>brush_orien</th>\n",
       "    </tr>\n",
       "  </thead>\n",
       "  <tbody>\n",
       "    <tr>\n",
       "      <th>0</th>\n",
       "      <td>1</td>\n",
       "      <td>'Exp_40_1_C001H001S0001'</td>\n",
       "      <td>0.0277</td>\n",
       "      <td>0.0645</td>\n",
       "      <td>3.14159265/2</td>\n",
       "    </tr>\n",
       "    <tr>\n",
       "      <th>1</th>\n",
       "      <td>2</td>\n",
       "      <td>'Exp_40_2_C001H001S0001'</td>\n",
       "      <td>0.0277</td>\n",
       "      <td>0.0645</td>\n",
       "      <td>3.14159265/2</td>\n",
       "    </tr>\n",
       "    <tr>\n",
       "      <th>2</th>\n",
       "      <td>3</td>\n",
       "      <td>'Exp_40_3_C001H001S0001'</td>\n",
       "      <td>0.0257</td>\n",
       "      <td>0.0645</td>\n",
       "      <td>3.14159265/2</td>\n",
       "    </tr>\n",
       "    <tr>\n",
       "      <th>3</th>\n",
       "      <td>4</td>\n",
       "      <td>'Exp_40_4_C001H001S0001'</td>\n",
       "      <td>0.0257</td>\n",
       "      <td>0.0645</td>\n",
       "      <td>3.14159265/2</td>\n",
       "    </tr>\n",
       "    <tr>\n",
       "      <th>4</th>\n",
       "      <td>5</td>\n",
       "      <td>'Exp_40_5_C001H001S0001'</td>\n",
       "      <td>0.0237</td>\n",
       "      <td>0.0645</td>\n",
       "      <td>3.14159265/2</td>\n",
       "    </tr>\n",
       "  </tbody>\n",
       "</table>\n",
       "</div>"
      ],
      "text/plain": [
       "   ID                 file_name   x_pos   z_pos   brush_orien\n",
       "0   1  'Exp_40_1_C001H001S0001'  0.0277  0.0645  3.14159265/2\n",
       "1   2  'Exp_40_2_C001H001S0001'  0.0277  0.0645  3.14159265/2\n",
       "2   3  'Exp_40_3_C001H001S0001'  0.0257  0.0645  3.14159265/2\n",
       "3   4  'Exp_40_4_C001H001S0001'  0.0257  0.0645  3.14159265/2\n",
       "4   5  'Exp_40_5_C001H001S0001'  0.0237  0.0645  3.14159265/2"
      ]
     },
     "metadata": {},
     "execution_count": 13
    }
   ],
   "metadata": {}
  },
  {
   "cell_type": "markdown",
   "source": [
    "## Generating the table file"
   ],
   "metadata": {}
  },
  {
   "cell_type": "code",
   "execution_count": 14,
   "source": [
    "os.chdir(current_path)\n",
    "\n",
    "file    = open('parametric.table', \"w\")\n",
    "number  = 12\n",
    "covar   = 1e-5 \n",
    "\n",
    "# writing the column names\n",
    "# ID file_name x_pos z_pos brush_orien\n",
    "file.write('ID') \n",
    "file.write(\" \")\n",
    "\n",
    "file.write('file_name') \n",
    "file.write(\" \")\n",
    "\n",
    "file.write('x_pos') \n",
    "file.write(\" \")\n",
    "\n",
    "file.write('z_pos') \n",
    "file.write(\" \")\n",
    "\n",
    "file.write('brush_orien') \n",
    "file.write(\" \")\n",
    "\n",
    "file.write('young') \n",
    "file.write(\" \")\n",
    "\n",
    "file.write('density') \n",
    "file.write(\" \")\n",
    "\n",
    "file.write('root_radius') \n",
    "file.write(\" \")\n",
    "\n",
    "file.write('radii_diff') \n",
    "file.write(\" \")\n",
    "file.write(\"\\n\")\n",
    "\n",
    "for idx, i in enumerate(data['file_name']):\n",
    "    for jdx, j in enumerate(params):\n",
    "        file.write(str(idx * exp_num + jdx + 1))\n",
    "        file.write(\" \")\n",
    "\n",
    "        file.write(str(i))\n",
    "        file.write(\" \")\n",
    "\n",
    "        file.write(str(data['x_pos'][idx]))\n",
    "        file.write(\" \")\n",
    "\n",
    "        file.write(str(data['z_pos'][idx]))\n",
    "        file.write(\" \")\n",
    "\n",
    "        file.write(data['brush_orien'][idx])\n",
    "        file.write(\" \")\n",
    "\n",
    "        for par in j:\n",
    "            file.write(\" \")\n",
    "            file.write(str(par))\n",
    "\n",
    "        file.write(\"\\n\")\n",
    "\n",
    "file.close()\n",
    "\n"
   ],
   "outputs": [],
   "metadata": {}
  }
 ],
 "metadata": {
  "orig_nbformat": 4,
  "language_info": {
   "name": "python",
   "version": "3.8.10",
   "mimetype": "text/x-python",
   "codemirror_mode": {
    "name": "ipython",
    "version": 3
   },
   "pygments_lexer": "ipython3",
   "nbconvert_exporter": "python",
   "file_extension": ".py"
  },
  "kernelspec": {
   "name": "python3",
   "display_name": "Python 3.8.10 64-bit"
  },
  "interpreter": {
   "hash": "916dbcbb3f70747c44a77c7bcd40155683ae19c65e1c03b4aa3499c5328201f1"
  }
 },
 "nbformat": 4,
 "nbformat_minor": 2
}